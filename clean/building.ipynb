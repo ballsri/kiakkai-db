{
 "cells": [
  {
   "cell_type": "code",
   "execution_count": null,
   "metadata": {},
   "outputs": [],
   "source": [
    "import pandas"
   ]
  },
  {
   "cell_type": "code",
   "execution_count": null,
   "metadata": {},
   "outputs": [],
   "source": [
    "bd = pandas.DataFrame(columns=['building_address', 'room_number', 'address', 'floor'])"
   ]
  },
  {
   "cell_type": "code",
   "execution_count": null,
   "metadata": {},
   "outputs": [],
   "source": [
    "# add room to df\n",
    "max_room = 133\n",
    "bd.loc[0] = ['4/1', \"-\", 'ห้องประชุม', '1']\n",
    "b_count = 2\n",
    "for i in range(1, max_room + 1):\n",
    "    if i == 31:\n",
    "        b_count+=1\n",
    "    if i == 66:\n",
    "        b_count+=1\n",
    "    if i == 106:\n",
    "        b_count+=1\n",
    "    b_str = \"4/\" + str(b_count)\n",
    "    bd.loc[i] = [b_str, str(i), \"49/\"+str(i), 'unknown']\n",
    "bd"
   ]
  },
  {
   "cell_type": "code",
   "execution_count": null,
   "metadata": {},
   "outputs": [],
   "source": [
    "# set floor for 4/2\n",
    "floor = 2\n",
    "for i in range(1,31):\n",
    "    bd.loc[i, 'floor'] = floor\n",
    "    if i % 5 == 0:\n",
    "        floor += 1\n",
    "floor = 2\n",
    "for i in range(31,66):\n",
    "    bd.loc[i, 'floor'] = floor\n",
    "    if i % 5 == 0:\n",
    "        floor += 1\n",
    "floor = 2\n",
    "for i in range(66,106):\n",
    "    bd.loc[i, 'floor'] = floor\n",
    "    if i % 5 == 0:\n",
    "        floor += 1\n",
    "floor = 7\n",
    "for i in range(106,134):\n",
    "    bd.loc[i, 'floor'] = floor\n",
    "    if i % 4 == 1 :\n",
    "        floor += 1"
   ]
  },
  {
   "cell_type": "code",
   "execution_count": null,
   "metadata": {},
   "outputs": [],
   "source": [
    "bd.to_csv('cleaned/building.csv', index=False)"
   ]
  }
 ],
 "metadata": {
  "kernelspec": {
   "display_name": ".venv",
   "language": "python",
   "name": "python3"
  },
  "language_info": {
   "codemirror_mode": {
    "name": "ipython",
    "version": 3
   },
   "file_extension": ".py",
   "mimetype": "text/x-python",
   "name": "python",
   "nbconvert_exporter": "python",
   "pygments_lexer": "ipython3",
   "version": "3.11.3"
  },
  "orig_nbformat": 4
 },
 "nbformat": 4,
 "nbformat_minor": 2
}
