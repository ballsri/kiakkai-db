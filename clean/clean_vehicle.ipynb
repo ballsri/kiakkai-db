{
 "cells": [
  {
   "cell_type": "code",
   "execution_count": 1,
   "metadata": {},
   "outputs": [],
   "source": [
    "#import\n",
    "import pandas"
   ]
  },
  {
   "cell_type": "code",
   "execution_count": 2,
   "metadata": {},
   "outputs": [
    {
     "name": "stdout",
     "output_type": "stream",
     "text": [
      "Index(['เลขที่บัตร-Bluetooth', 'บ้านเลขที่', 'ยศ ชื่อ-สกุล ผู้ใช้รถ',\n",
      "       'รถยนต์-เลขที่บัตรปี 66-67', 'รถยนต์-ยี่ห้อ', 'รถยนต์-สี',\n",
      "       'รถยนต์-ทะเบียน', 'รถยนต์-จังหวัด', 'รถจักรยานยนต์-ยี่ห้อ',\n",
      "       'รถจักรยานยนต์-สี', 'รถจักรยานยนต์-ทะเบียน', 'รถจักรยานยนต์-จังหวัด',\n",
      "       'เบอร์โทร', 'รถจักรยานยนต์-เลขที่บัตรปี 66-67', 'รถยนตร์'],\n",
      "      dtype='object')\n"
     ]
    }
   ],
   "source": [
    "df4 = pandas.read_csv(\"manual_clean/04-clean.csv\")\n",
    "print(df4.columns)"
   ]
  },
  {
   "cell_type": "code",
   "execution_count": 3,
   "metadata": {},
   "outputs": [
    {
     "data": {
      "text/plain": [
       "Index(['bt_id', 'address', 'driver', 'vehicle_card_id_66_67', 'car_brand',\n",
       "       'car_color', 'car_plate', 'car_district', 'bike_brand', 'bike_color',\n",
       "       'bike_plate', 'bike_district', 'phone', 'vehicle_card_id_66_67_2',\n",
       "       'vehicle_type'],\n",
       "      dtype='object')"
      ]
     },
     "execution_count": 3,
     "metadata": {},
     "output_type": "execute_result"
    }
   ],
   "source": [
    "# change column names\n",
    "df4_cols = ['bt_id', 'address', 'driver', 'vehicle_card_id_66_67', 'car_brand', 'car_color', 'car_plate', 'car_district', 'bike_brand', 'bike_color', 'bike_plate', 'bike_district', 'phone', 'vehicle_card_id_66_67_2', 'vehicle_type']\n",
    "df4.columns = df4_cols\n",
    "df4.columns"
   ]
  },
  {
   "cell_type": "code",
   "execution_count": null,
   "metadata": {},
   "outputs": [],
   "source": [
    "# add car_type column\n",
    "df4.loc[df4['car_brand'].str.contains('-') == True, 'vehicle_type'] = 'bike'\n",
    "df4.loc[df4['car_brand'].str.contains('-') == False, 'vehicle_type'] = 'car'"
   ]
  },
  {
   "cell_type": "code",
   "execution_count": null,
   "metadata": {},
   "outputs": [],
   "source": [
    "# merge car and bike columns\n",
    "# brand\n",
    "df4['brand'] = df4[df4['car_brand'].str.contains('-') == False]['car_brand']\n",
    "df4['brand'] = df4['brand'].fillna(df4['bike_brand'])\n",
    "# color\n",
    "df4['color'] = df4[df4['car_color'].str.contains('-') == False]['car_color']\n",
    "df4['color'] = df4['color'].fillna(df4['bike_color'])\n",
    "# plate\n",
    "df4['plate'] = df4[df4['car_plate'].str.contains('-') == False]['car_plate']\n",
    "df4['plate'] = df4['plate'].fillna(df4['bike_plate'])\n",
    "# district\n",
    "df4['district'] = df4[df4['car_district'].str.contains('-') == False]['car_district']\n",
    "df4['district'] = df4['district'].fillna(df4['bike_district'])\n",
    "\n",
    "# drop columns\n",
    "df4 = df4.drop(['car_brand', 'car_color', 'car_plate', 'car_district', 'bike_brand', 'bike_color', 'bike_plate', 'bike_district'], axis=1)"
   ]
  },
  {
   "cell_type": "code",
   "execution_count": null,
   "metadata": {},
   "outputs": [],
   "source": [
    "# reorder columns\n",
    "df4_cols = ['bt_id', 'address', 'driver', 'vehicle_card_id_66_67', 'vehicle_card_id_66_67_2', 'vehicle_type', 'brand', 'color', 'plate', 'district', 'phone']\n",
    "df4 = df4[df4_cols]"
   ]
  },
  {
   "cell_type": "code",
   "execution_count": null,
   "metadata": {},
   "outputs": [],
   "source": [
    "# fill na with empty string\n",
    "df4 = df4.fillna('-')"
   ]
  },
  {
   "cell_type": "code",
   "execution_count": null,
   "metadata": {},
   "outputs": [],
   "source": [
    "# export\n",
    "df4.to_csv('cleaned/car-clean.csv', index=False)"
   ]
  }
 ],
 "metadata": {
  "kernelspec": {
   "display_name": ".venv",
   "language": "python",
   "name": "python3"
  },
  "language_info": {
   "codemirror_mode": {
    "name": "ipython",
    "version": 3
   },
   "file_extension": ".py",
   "mimetype": "text/x-python",
   "name": "python",
   "nbconvert_exporter": "python",
   "pygments_lexer": "ipython3",
   "version": "3.11.3"
  },
  "orig_nbformat": 4
 },
 "nbformat": 4,
 "nbformat_minor": 2
}
