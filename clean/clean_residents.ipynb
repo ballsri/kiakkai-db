{
 "cells": [
  {
   "cell_type": "code",
   "execution_count": null,
   "metadata": {},
   "outputs": [],
   "source": [
    "import pandas"
   ]
  },
  {
   "cell_type": "code",
   "execution_count": null,
   "metadata": {},
   "outputs": [],
   "source": [
    "df_residents = pandas.read_csv('manual_clean/02-clean.csv')"
   ]
  },
  {
   "cell_type": "code",
   "execution_count": null,
   "metadata": {},
   "outputs": [],
   "source": [
    "# change resident column name\n",
    "df_res_cols = ['building', 'address', 'prefix', 'name', 'lastname', 'citizen_id', 'phone', 'relationship', 'agency', 'is_owner']\n",
    "df_residents.columns = df_res_cols"
   ]
  },
  {
   "cell_type": "code",
   "execution_count": null,
   "metadata": {},
   "outputs": [],
   "source": [
    "# if relationship is เจ้าบ้าน, is_owner = true\n",
    "df_residents['is_owner'] = df_residents['relationship'].apply(lambda x: True if x == 'เจ้าบ้าน' else False)"
   ]
  },
  {
   "cell_type": "code",
   "execution_count": null,
   "metadata": {},
   "outputs": [],
   "source": [
    "# fill empty building and address with previous row\n",
    "df_residents['building'] = df_residents['building'].fillna(method='ffill')\n",
    "df_residents['address'] = df_residents['address'].fillna(method='ffill')"
   ]
  },
  {
   "cell_type": "code",
   "execution_count": null,
   "metadata": {},
   "outputs": [],
   "source": [
    "# fill empty field with -\n",
    "df_residents = df_residents.fillna('-')"
   ]
  },
  {
   "cell_type": "code",
   "execution_count": null,
   "metadata": {},
   "outputs": [],
   "source": [
    "# save to csv\n",
    "df_residents.to_csv('cleaned/residents-clean.csv', index=False)"
   ]
  }
 ],
 "metadata": {
  "kernelspec": {
   "display_name": ".venv",
   "language": "python",
   "name": "python3"
  },
  "language_info": {
   "codemirror_mode": {
    "name": "ipython",
    "version": 3
   },
   "file_extension": ".py",
   "mimetype": "text/x-python",
   "name": "python",
   "nbconvert_exporter": "python",
   "pygments_lexer": "ipython3",
   "version": "3.11.3"
  },
  "orig_nbformat": 4
 },
 "nbformat": 4,
 "nbformat_minor": 2
}
